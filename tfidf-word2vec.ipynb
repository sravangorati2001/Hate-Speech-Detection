{
 "cells": [
  {
   "cell_type": "markdown",
   "metadata": {},
   "source": [
    "# HATE SPEECH DETECTION FROM TWEETS"
   ]
  },
  {
   "cell_type": "markdown",
   "metadata": {},
   "source": [
    "Sathvik Jamalpur, Aryan Karnati, Sai Madhav Peddoji"
   ]
  },
  {
   "cell_type": "code",
   "execution_count": 48,
   "metadata": {},
   "outputs": [],
   "source": [
    "import numpy as np\n",
    "import pandas as pd\n",
    "import sklearn \n",
    "from sklearn.feature_extraction.text import TfidfVectorizer"
   ]
  },
  {
   "cell_type": "code",
   "execution_count": 15,
   "metadata": {},
   "outputs": [],
   "source": [
    "training_data=pd.read_csv('training_data.csv')\n",
    "test_data=pd.read_csv('test_data.csv')"
   ]
  },
  {
   "cell_type": "markdown",
   "metadata": {},
   "source": [
    "# Tf-Idf"
   ]
  },
  {
   "cell_type": "code",
   "execution_count": 47,
   "metadata": {},
   "outputs": [],
   "source": [
    "tfidf_vectorizer = TfidfVectorizer(max_df=0.90, min_df=2, max_features=1000)\n",
    "l=[]\n",
    "for i in training_data['Text']:\n",
    "    l.append(''.join(j for j in i ))\n",
    "\n",
    "train_tfidf = tfidf_vectorizer.fit_transform(l).toarray()\n",
    "train_tfidf=pd.DataFrame(train_tfidf)"
   ]
  },
  {
   "cell_type": "code",
   "execution_count": 44,
   "metadata": {},
   "outputs": [],
   "source": [
    "l=[]\n",
    "for i in test_data['Text']:\n",
    "    l.append(''.join(j+' ' for j in i ))\n",
    "test_tfidf = tfidf_vectorizer.transform(l).toarray()\n",
    "test_tfidf=pd.DataFrame(test_tfidf)"
   ]
  },
  {
   "cell_type": "code",
   "execution_count": 42,
   "metadata": {},
   "outputs": [],
   "source": [
    "train_tfidf.to_csv('train_tfidf.csv')"
   ]
  },
  {
   "cell_type": "code",
   "execution_count": 45,
   "metadata": {},
   "outputs": [],
   "source": [
    "test_tfidf.to_csv('test_tfidf.csv')"
   ]
  },
  {
   "cell_type": "markdown",
   "metadata": {},
   "source": [
    "# Word2Vec"
   ]
  },
  {
   "cell_type": "code",
   "execution_count": 25,
   "metadata": {},
   "outputs": [
    {
     "data": {
      "text/plain": [
       "(48301995, 241916100)"
      ]
     },
     "execution_count": 25,
     "metadata": {},
     "output_type": "execute_result"
    }
   ],
   "source": [
    "import gensim\n",
    "model_w2v = gensim.models.Word2Vec(\n",
    "            training_data['Text'],\n",
    "            vector_size=200,\n",
    "            window=5, # context window size\n",
    "            min_count=2, # Ignores all words with total frequency lower than 2.                                  \n",
    "            sg = 1, # 1 for skip-gram model\n",
    "            hs = 0,\n",
    "            negative = 10, # for negative sampling\n",
    "            workers= 32, # no.of cores\n",
    "            seed = 34\n",
    ") \n",
    "\n",
    "model_w2v.train(training_data['Text'], total_examples= len(training_data['Text']), epochs=20)"
   ]
  },
  {
   "cell_type": "code",
   "execution_count": 27,
   "metadata": {},
   "outputs": [],
   "source": [
    "#for-training-data\n",
    "l=[]\n",
    "for i in training_data['Text']:\n",
    "    l.append(''.join(j+' ' for j in i ))\n",
    "df=pd.DataFrame(l,columns=['Text'])\n",
    "l= df['Text'].apply(lambda x: x.split())\n",
    "\n",
    "def word_vector(tokens, size):\n",
    "    vec = np.zeros(size).reshape((1, size))\n",
    "    count = 0\n",
    "    for word in tokens:\n",
    "        try:\n",
    "            vec += model_w2v.wv[word].reshape((1, size))\n",
    "            count += 1.\n",
    "        except KeyError:  # handling the case where the token is not in vocabulary\n",
    "            continue\n",
    "    if count != 0:\n",
    "        vec /= count\n",
    "    return vec\n",
    "wordvec_arrays = np.zeros((len(l), 200)) \n",
    "for i in range(len(l)):\n",
    "    wordvec_arrays[i,:] = word_vector(l[i], 200)\n",
    "wordvec_train = pd.DataFrame(wordvec_arrays)\n"
   ]
  },
  {
   "cell_type": "code",
   "execution_count": 29,
   "metadata": {},
   "outputs": [],
   "source": [
    "#for test-data\n",
    "l=[]\n",
    "for i in test_data['Text']:\n",
    "    l.append(''.join(j+' ' for j in i ))\n",
    "\n",
    "\n",
    "df=pd.DataFrame(l,columns=['Text'])\n",
    "l= df['Text'].apply(lambda x: x.split())\n",
    "\n",
    "wordvec_arrays = np.zeros((len(l), 200)) \n",
    "for i in range(len(l)):\n",
    "    wordvec_arrays[i,:] = word_vector(l[i], 200)\n",
    "wordvec_test = pd.DataFrame(wordvec_arrays)\n"
   ]
  },
  {
   "cell_type": "code",
   "execution_count": null,
   "metadata": {},
   "outputs": [],
   "source": []
  }
 ],
 "metadata": {
  "kernelspec": {
   "display_name": "Python 3",
   "language": "python",
   "name": "python3"
  },
  "language_info": {
   "codemirror_mode": {
    "name": "ipython",
    "version": 3
   },
   "file_extension": ".py",
   "mimetype": "text/x-python",
   "name": "python",
   "nbconvert_exporter": "python",
   "pygments_lexer": "ipython3",
   "version": "3.8.3"
  }
 },
 "nbformat": 4,
 "nbformat_minor": 4
}
